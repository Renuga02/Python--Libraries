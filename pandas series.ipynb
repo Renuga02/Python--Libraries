{
 "cells": [
  {
   "cell_type": "code",
   "execution_count": null,
   "id": "258b0f75-def8-4450-93ce-e711ba190838",
   "metadata": {},
   "outputs": [],
   "source": [
    "pip install pandas"
   ]
  },
  {
   "cell_type": "code",
   "execution_count": null,
   "id": "68f24bfa-ac80-4744-a7f7-e6bf65919e57",
   "metadata": {},
   "outputs": [],
   "source": [
    "\n",
    "import numpy as np\n",
    "import pandas as pd"
   ]
  },
  {
   "cell_type": "code",
   "execution_count": 108,
   "id": "f70ee73a-f305-43e5-aa7c-7cd4c5b75a04",
   "metadata": {},
   "outputs": [],
   "source": [
    "# create series :\n",
    "mat=[\n",
    "    [1,2,3],\n",
    "    [4,5,6],\n",
    "    [7,8,9],\n",
    "]"
   ]
  },
  {
   "cell_type": "code",
   "execution_count": 108,
   "id": "81adffa0-ad71-46dd-ab17-b095cbd740cf",
   "metadata": {},
   "outputs": [],
   "source": [
    "# create series :\n",
    "mat=[\n",
    "    [1,2,3],\n",
    "    [4,5,6],\n",
    "    [7,8,9],\n",
    "]"
   ]
  },
  {
   "cell_type": "code",
   "execution_count": 109,
   "id": "2edcf4f2-1bc2-4784-a393-329fdcb39c77",
   "metadata": {},
   "outputs": [
    {
     "data": {
      "text/plain": [
       "array([4, 5, 6])"
      ]
     },
     "execution_count": 109,
     "metadata": {},
     "output_type": "execute_result"
    }
   ],
   "source": [
    "ar=np.array(mat)\n",
    "ar[1]"
   ]
  },
  {
   "cell_type": "code",
   "execution_count": 39,
   "id": "d066cbb4-306c-414b-bcfd-97f075eebf8e",
   "metadata": {},
   "outputs": [],
   "source": [
    "lst=['R','E','N']"
   ]
  },
  {
   "cell_type": "code",
   "execution_count": 40,
   "id": "12019563-2d25-4d3c-9cf7-c511f7b44862",
   "metadata": {},
   "outputs": [
    {
     "data": {
      "text/plain": [
       "0    R\n",
       "1    E\n",
       "2    N\n",
       "dtype: object"
      ]
     },
     "execution_count": 40,
     "metadata": {},
     "output_type": "execute_result"
    }
   ],
   "source": [
    "pd.Series(data=lst)                             # convert list to series "
   ]
  },
  {
   "cell_type": "code",
   "execution_count": 10,
   "id": "f7516383-99f1-4d22-b973-564f6e2d9c3d",
   "metadata": {},
   "outputs": [],
   "source": [
    "lst1=['a','b','c']                                # change default index to lst 1"
   ]
  },
  {
   "cell_type": "code",
   "execution_count": 41,
   "id": "17ba622e-5f25-48de-acbf-fa5443a36789",
   "metadata": {},
   "outputs": [
    {
     "data": {
      "text/plain": [
       "a    R\n",
       "b    E\n",
       "c    N\n",
       "dtype: object"
      ]
     },
     "execution_count": 41,
     "metadata": {},
     "output_type": "execute_result"
    }
   ],
   "source": [
    "pd.Series(data=lst,index=lst1)"
   ]
  },
  {
   "cell_type": "code",
   "execution_count": 42,
   "id": "20d3b8a6-7c9c-4739-838a-4861e7614e58",
   "metadata": {},
   "outputs": [],
   "source": [
    "dic={'Name':'Re','Age':'thity'}"
   ]
  },
  {
   "cell_type": "code",
   "execution_count": 43,
   "id": "fbd0fc44-a8e2-4a8f-a833-c5234aa69895",
   "metadata": {},
   "outputs": [
    {
     "data": {
      "text/plain": [
       "Name       Re\n",
       "Age     thity\n",
       "dtype: object"
      ]
     },
     "execution_count": 43,
     "metadata": {},
     "output_type": "execute_result"
    }
   ],
   "source": [
    "pd.Series(data=dic)                             # dictionary"
   ]
  },
  {
   "cell_type": "code",
   "execution_count": 44,
   "id": "a56d5846-4ead-415c-909a-f400048800cf",
   "metadata": {},
   "outputs": [
    {
     "data": {
      "text/plain": [
       "array([[1, 2, 3],\n",
       "       [4, 5, 6],\n",
       "       [7, 8, 9]])"
      ]
     },
     "execution_count": 44,
     "metadata": {},
     "output_type": "execute_result"
    }
   ],
   "source": [
    "ar"
   ]
  },
  {
   "cell_type": "code",
   "execution_count": 45,
   "id": "3bc31544-41f4-4daf-a3d8-6c266a2cb563",
   "metadata": {},
   "outputs": [
    {
     "data": {
      "text/plain": [
       "0    7\n",
       "1    8\n",
       "2    9\n",
       "dtype: int32"
      ]
     },
     "execution_count": 45,
     "metadata": {},
     "output_type": "execute_result"
    }
   ],
   "source": [
    "pd.Series(ar[2])                            # Numpy array"
   ]
  },
  {
   "cell_type": "code",
   "execution_count": 16,
   "id": "669d22bb-7070-4f93-8483-24d7df2ee5f9",
   "metadata": {},
   "outputs": [],
   "source": [
    "# using an index:\n"
   ]
  },
  {
   "cell_type": "code",
   "execution_count": 57,
   "id": "c2ec4a7a-3f5d-4875-9124-a7ff6d0c17d9",
   "metadata": {},
   "outputs": [],
   "source": [
    "list=[1,2,3,4]"
   ]
  },
  {
   "cell_type": "code",
   "execution_count": 18,
   "id": "f33edd8b-f539-439b-8936-655c43087535",
   "metadata": {},
   "outputs": [],
   "source": [
    "series1=pd.Series(data=list,index=['India','Japan','Korea','US'])"
   ]
  },
  {
   "cell_type": "code",
   "execution_count": 19,
   "id": "01f60216-b4bf-42d4-bb68-65f434af2309",
   "metadata": {},
   "outputs": [
    {
     "data": {
      "text/plain": [
       "India    1\n",
       "Japan    2\n",
       "Korea    3\n",
       "US       4\n",
       "dtype: int64"
      ]
     },
     "execution_count": 19,
     "metadata": {},
     "output_type": "execute_result"
    }
   ],
   "source": [
    "series1"
   ]
  },
  {
   "cell_type": "code",
   "execution_count": 47,
   "id": "14c7eaea-9b30-4bb5-9b88-5960805cd1db",
   "metadata": {},
   "outputs": [],
   "source": [
    "series2=pd.Series(list,index=['India','Japan','Korea','UK'])"
   ]
  },
  {
   "cell_type": "code",
   "execution_count": 48,
   "id": "c41a421f-2c21-4535-85af-9a0345f810b4",
   "metadata": {},
   "outputs": [
    {
     "data": {
      "text/plain": [
       "India    1\n",
       "Japan    2\n",
       "Korea    3\n",
       "UK       4\n",
       "dtype: int64"
      ]
     },
     "execution_count": 48,
     "metadata": {},
     "output_type": "execute_result"
    }
   ],
   "source": [
    "series2"
   ]
  },
  {
   "cell_type": "code",
   "execution_count": 49,
   "id": "71b3c922-25e0-464d-8050-14257032d476",
   "metadata": {},
   "outputs": [
    {
     "data": {
      "text/plain": [
       "India    2.0\n",
       "Japan    4.0\n",
       "Korea    6.0\n",
       "UK       NaN\n",
       "US       NaN\n",
       "dtype: float64"
      ]
     },
     "execution_count": 49,
     "metadata": {},
     "output_type": "execute_result"
    }
   ],
   "source": [
    "series1 + series2                        #(Add )"
   ]
  },
  {
   "cell_type": "code",
   "execution_count": 50,
   "id": "eaf3bf42-94e4-407c-afb0-60e49ea9f2bd",
   "metadata": {},
   "outputs": [],
   "source": [
    "actors=[\"Vijay\",\"Dhanush\",\"Vijaysethupathi\",\"Simbu\"]"
   ]
  },
  {
   "cell_type": "code",
   "execution_count": 51,
   "id": "677355bf-e884-4541-884c-b0fe706829d6",
   "metadata": {},
   "outputs": [],
   "source": [
    "intdex=[1,2,3,4]"
   ]
  },
  {
   "cell_type": "code",
   "execution_count": 52,
   "id": "ced98f74-5f76-461e-82b5-1f5b1b5c2f5c",
   "metadata": {},
   "outputs": [],
   "source": [
    "s1=pd.Series(data=actors,index=intdex)"
   ]
  },
  {
   "cell_type": "code",
   "execution_count": 53,
   "id": "1fd69c36-1c7f-4b5d-b732-d2ab2c5aab24",
   "metadata": {},
   "outputs": [
    {
     "data": {
      "text/plain": [
       "1              Vijay\n",
       "2            Dhanush\n",
       "3    Vijaysethupathi\n",
       "4              Simbu\n",
       "dtype: object"
      ]
     },
     "execution_count": 53,
     "metadata": {},
     "output_type": "execute_result"
    }
   ],
   "source": [
    "s1"
   ]
  },
  {
   "cell_type": "code",
   "execution_count": 27,
   "id": "5bf119da-d733-4f9c-8453-82e38bca4b5f",
   "metadata": {},
   "outputs": [],
   "source": [
    "actors1=['Vijay','Dhanush','Vikram','Simbu']"
   ]
  },
  {
   "cell_type": "code",
   "execution_count": 28,
   "id": "c826d59e-d000-474f-827c-d3a1fe5b822c",
   "metadata": {},
   "outputs": [],
   "source": [
    "s2=pd.Series(data=actors1,index=intdex)"
   ]
  },
  {
   "cell_type": "code",
   "execution_count": 54,
   "id": "7644bc5f-6572-4632-827f-65f5425ff38d",
   "metadata": {},
   "outputs": [
    {
     "data": {
      "text/plain": [
       "1      Vijay\n",
       "2    Dhanush\n",
       "3     Vikram\n",
       "4      Simbu\n",
       "dtype: object"
      ]
     },
     "execution_count": 54,
     "metadata": {},
     "output_type": "execute_result"
    }
   ],
   "source": [
    "s2"
   ]
  },
  {
   "cell_type": "code",
   "execution_count": 30,
   "id": "0c881559-9643-4f62-b658-431e43065532",
   "metadata": {},
   "outputs": [
    {
     "data": {
      "text/plain": [
       "1               VijayVijay\n",
       "2           DhanushDhanush\n",
       "3    VijaysethupathiVikram\n",
       "4               SimbuSimbu\n",
       "dtype: object"
      ]
     },
     "execution_count": 30,
     "metadata": {},
     "output_type": "execute_result"
    }
   ],
   "source": [
    "s1 + s2                                           # join "
   ]
  },
  {
   "cell_type": "code",
   "execution_count": 31,
   "id": "666028a4-b354-4966-b914-28aad9e12d62",
   "metadata": {},
   "outputs": [],
   "source": [
    "#create a dataframes:"
   ]
  },
  {
   "cell_type": "code",
   "execution_count": 55,
   "id": "70f025b9-8a02-4d59-b35a-6bfbf5ec88a0",
   "metadata": {},
   "outputs": [],
   "source": [
    "data1=np.random.randn(4,4)"
   ]
  },
  {
   "cell_type": "code",
   "execution_count": 56,
   "id": "22ec486c-f6a8-4d6f-a791-4c8721e9b8af",
   "metadata": {},
   "outputs": [
    {
     "data": {
      "text/plain": [
       "array([[ 0.9306131 , -0.19082869,  0.21015518,  0.08711402],\n",
       "       [-0.21741352,  1.59336776, -0.16642747,  0.6209489 ],\n",
       "       [-0.63820148,  0.01525413,  0.36790817,  0.19903006],\n",
       "       [ 0.86997085, -1.46580557, -0.79676236, -0.51992911]])"
      ]
     },
     "execution_count": 56,
     "metadata": {},
     "output_type": "execute_result"
    }
   ],
   "source": [
    "data1"
   ]
  },
  {
   "cell_type": "code",
   "execution_count": 60,
   "id": "8f1b33a4-0c99-48e0-a1d1-9f9bab4d5cbb",
   "metadata": {},
   "outputs": [],
   "source": [
    "df=pd.DataFrame(data=data1,columns=lst,index=[1,2,3,4])                # crate a dataframe"
   ]
  },
  {
   "cell_type": "code",
   "execution_count": 61,
   "id": "86e04060-e074-425c-946b-9de37252dd2f",
   "metadata": {},
   "outputs": [],
   "source": [
    "lst=['A','B','C','D']"
   ]
  },
  {
   "cell_type": "code",
   "execution_count": 62,
   "id": "d6fa36ce-ef82-4309-af56-a121bbbccb42",
   "metadata": {},
   "outputs": [
    {
     "data": {
      "text/html": [
       "<div>\n",
       "<style scoped>\n",
       "    .dataframe tbody tr th:only-of-type {\n",
       "        vertical-align: middle;\n",
       "    }\n",
       "\n",
       "    .dataframe tbody tr th {\n",
       "        vertical-align: top;\n",
       "    }\n",
       "\n",
       "    .dataframe thead th {\n",
       "        text-align: right;\n",
       "    }\n",
       "</style>\n",
       "<table border=\"1\" class=\"dataframe\">\n",
       "  <thead>\n",
       "    <tr style=\"text-align: right;\">\n",
       "      <th></th>\n",
       "      <th>A</th>\n",
       "      <th>B</th>\n",
       "      <th>C</th>\n",
       "      <th>D</th>\n",
       "    </tr>\n",
       "  </thead>\n",
       "  <tbody>\n",
       "    <tr>\n",
       "      <th>1</th>\n",
       "      <td>0.930613</td>\n",
       "      <td>-0.190829</td>\n",
       "      <td>0.210155</td>\n",
       "      <td>0.087114</td>\n",
       "    </tr>\n",
       "    <tr>\n",
       "      <th>2</th>\n",
       "      <td>-0.217414</td>\n",
       "      <td>1.593368</td>\n",
       "      <td>-0.166427</td>\n",
       "      <td>0.620949</td>\n",
       "    </tr>\n",
       "    <tr>\n",
       "      <th>3</th>\n",
       "      <td>-0.638201</td>\n",
       "      <td>0.015254</td>\n",
       "      <td>0.367908</td>\n",
       "      <td>0.199030</td>\n",
       "    </tr>\n",
       "    <tr>\n",
       "      <th>4</th>\n",
       "      <td>0.869971</td>\n",
       "      <td>-1.465806</td>\n",
       "      <td>-0.796762</td>\n",
       "      <td>-0.519929</td>\n",
       "    </tr>\n",
       "  </tbody>\n",
       "</table>\n",
       "</div>"
      ],
      "text/plain": [
       "          A         B         C         D\n",
       "1  0.930613 -0.190829  0.210155  0.087114\n",
       "2 -0.217414  1.593368 -0.166427  0.620949\n",
       "3 -0.638201  0.015254  0.367908  0.199030\n",
       "4  0.869971 -1.465806 -0.796762 -0.519929"
      ]
     },
     "execution_count": 62,
     "metadata": {},
     "output_type": "execute_result"
    }
   ],
   "source": [
    "df"
   ]
  },
  {
   "cell_type": "code",
   "execution_count": 63,
   "id": "cfbf42ce-3344-45ee-805c-60b77f130581",
   "metadata": {},
   "outputs": [
    {
     "data": {
      "text/plain": [
       "1   -0.190829\n",
       "2    1.593368\n",
       "3    0.015254\n",
       "4   -1.465806\n",
       "Name: B, dtype: float64"
      ]
     },
     "execution_count": 63,
     "metadata": {},
     "output_type": "execute_result"
    }
   ],
   "source": [
    "df['B']                                             # using indexing"
   ]
  },
  {
   "cell_type": "code",
   "execution_count": 64,
   "id": "b191a5bf-07ca-4440-ad89-481535fe1d6d",
   "metadata": {},
   "outputs": [
    {
     "data": {
      "text/plain": [
       "pandas.core.series.Series"
      ]
     },
     "execution_count": 64,
     "metadata": {},
     "output_type": "execute_result"
    }
   ],
   "source": [
    "type(df['B'])"
   ]
  },
  {
   "cell_type": "code",
   "execution_count": 65,
   "id": "3ec4db54-e9e2-4731-9c66-889a66b569a1",
   "metadata": {},
   "outputs": [
    {
     "data": {
      "text/html": [
       "<div>\n",
       "<style scoped>\n",
       "    .dataframe tbody tr th:only-of-type {\n",
       "        vertical-align: middle;\n",
       "    }\n",
       "\n",
       "    .dataframe tbody tr th {\n",
       "        vertical-align: top;\n",
       "    }\n",
       "\n",
       "    .dataframe thead th {\n",
       "        text-align: right;\n",
       "    }\n",
       "</style>\n",
       "<table border=\"1\" class=\"dataframe\">\n",
       "  <thead>\n",
       "    <tr style=\"text-align: right;\">\n",
       "      <th></th>\n",
       "      <th>A</th>\n",
       "      <th>B</th>\n",
       "    </tr>\n",
       "  </thead>\n",
       "  <tbody>\n",
       "    <tr>\n",
       "      <th>1</th>\n",
       "      <td>0.930613</td>\n",
       "      <td>-0.190829</td>\n",
       "    </tr>\n",
       "    <tr>\n",
       "      <th>2</th>\n",
       "      <td>-0.217414</td>\n",
       "      <td>1.593368</td>\n",
       "    </tr>\n",
       "    <tr>\n",
       "      <th>3</th>\n",
       "      <td>-0.638201</td>\n",
       "      <td>0.015254</td>\n",
       "    </tr>\n",
       "    <tr>\n",
       "      <th>4</th>\n",
       "      <td>0.869971</td>\n",
       "      <td>-1.465806</td>\n",
       "    </tr>\n",
       "  </tbody>\n",
       "</table>\n",
       "</div>"
      ],
      "text/plain": [
       "          A         B\n",
       "1  0.930613 -0.190829\n",
       "2 -0.217414  1.593368\n",
       "3 -0.638201  0.015254\n",
       "4  0.869971 -1.465806"
      ]
     },
     "execution_count": 65,
     "metadata": {},
     "output_type": "execute_result"
    }
   ],
   "source": [
    "df[['A','B']]                                      # get two coln an indexing"
   ]
  },
  {
   "cell_type": "code",
   "execution_count": 66,
   "id": "79593208-ceb2-49a1-b462-ba8a56c1dd64",
   "metadata": {},
   "outputs": [
    {
     "data": {
      "text/plain": [
       "pandas.core.frame.DataFrame"
      ]
     },
     "execution_count": 66,
     "metadata": {},
     "output_type": "execute_result"
    }
   ],
   "source": [
    "type(df[['A','B']] )"
   ]
  },
  {
   "cell_type": "code",
   "execution_count": null,
   "id": "a3b4443f-7234-4d0b-b882-d4eee37e88a2",
   "metadata": {},
   "outputs": [],
   "source": [
    "# ADD a new columns:"
   ]
  },
  {
   "cell_type": "code",
   "execution_count": 67,
   "id": "b9bfdb6a-869b-4ebf-8ad6-c85ca4c56bc5",
   "metadata": {},
   "outputs": [],
   "source": [
    "df['E']=df['C'] + df['D']"
   ]
  },
  {
   "cell_type": "code",
   "execution_count": 110,
   "id": "f08d4477-9d17-41e3-8649-d61ec971056e",
   "metadata": {},
   "outputs": [
    {
     "data": {
      "text/html": [
       "<div>\n",
       "<style scoped>\n",
       "    .dataframe tbody tr th:only-of-type {\n",
       "        vertical-align: middle;\n",
       "    }\n",
       "\n",
       "    .dataframe tbody tr th {\n",
       "        vertical-align: top;\n",
       "    }\n",
       "\n",
       "    .dataframe thead th {\n",
       "        text-align: right;\n",
       "    }\n",
       "</style>\n",
       "<table border=\"1\" class=\"dataframe\">\n",
       "  <thead>\n",
       "    <tr style=\"text-align: right;\">\n",
       "      <th></th>\n",
       "      <th>A</th>\n",
       "      <th>B</th>\n",
       "      <th>C</th>\n",
       "      <th>D</th>\n",
       "      <th>E</th>\n",
       "      <th>states</th>\n",
       "    </tr>\n",
       "  </thead>\n",
       "  <tbody>\n",
       "    <tr>\n",
       "      <th>1</th>\n",
       "      <td>0.930613</td>\n",
       "      <td>-0.190829</td>\n",
       "      <td>0.210155</td>\n",
       "      <td>0.087114</td>\n",
       "      <td>0.297269</td>\n",
       "      <td>RR</td>\n",
       "    </tr>\n",
       "    <tr>\n",
       "      <th>2</th>\n",
       "      <td>-0.217414</td>\n",
       "      <td>1.593368</td>\n",
       "      <td>-0.166427</td>\n",
       "      <td>0.620949</td>\n",
       "      <td>0.454521</td>\n",
       "      <td>EE</td>\n",
       "    </tr>\n",
       "    <tr>\n",
       "      <th>3</th>\n",
       "      <td>-0.638201</td>\n",
       "      <td>0.015254</td>\n",
       "      <td>0.367908</td>\n",
       "      <td>0.199030</td>\n",
       "      <td>0.566938</td>\n",
       "      <td>NN</td>\n",
       "    </tr>\n",
       "    <tr>\n",
       "      <th>4</th>\n",
       "      <td>0.869971</td>\n",
       "      <td>-1.465806</td>\n",
       "      <td>-0.796762</td>\n",
       "      <td>-0.519929</td>\n",
       "      <td>-1.316691</td>\n",
       "      <td>UU</td>\n",
       "    </tr>\n",
       "  </tbody>\n",
       "</table>\n",
       "</div>"
      ],
      "text/plain": [
       "          A         B         C         D         E states\n",
       "1  0.930613 -0.190829  0.210155  0.087114  0.297269     RR\n",
       "2 -0.217414  1.593368 -0.166427  0.620949  0.454521     EE\n",
       "3 -0.638201  0.015254  0.367908  0.199030  0.566938     NN\n",
       "4  0.869971 -1.465806 -0.796762 -0.519929 -1.316691     UU"
      ]
     },
     "execution_count": 110,
     "metadata": {},
     "output_type": "execute_result"
    }
   ],
   "source": [
    "df                                                         # create a new Colunmns "
   ]
  },
  {
   "cell_type": "code",
   "execution_count": 69,
   "id": "c180fa9a-7003-4352-bd4c-1cc5646ecd72",
   "metadata": {},
   "outputs": [
    {
     "data": {
      "text/html": [
       "<div>\n",
       "<style scoped>\n",
       "    .dataframe tbody tr th:only-of-type {\n",
       "        vertical-align: middle;\n",
       "    }\n",
       "\n",
       "    .dataframe tbody tr th {\n",
       "        vertical-align: top;\n",
       "    }\n",
       "\n",
       "    .dataframe thead th {\n",
       "        text-align: right;\n",
       "    }\n",
       "</style>\n",
       "<table border=\"1\" class=\"dataframe\">\n",
       "  <thead>\n",
       "    <tr style=\"text-align: right;\">\n",
       "      <th></th>\n",
       "      <th>A</th>\n",
       "      <th>B</th>\n",
       "      <th>C</th>\n",
       "      <th>D</th>\n",
       "    </tr>\n",
       "  </thead>\n",
       "  <tbody>\n",
       "    <tr>\n",
       "      <th>1</th>\n",
       "      <td>0.930613</td>\n",
       "      <td>-0.190829</td>\n",
       "      <td>0.210155</td>\n",
       "      <td>0.087114</td>\n",
       "    </tr>\n",
       "    <tr>\n",
       "      <th>2</th>\n",
       "      <td>-0.217414</td>\n",
       "      <td>1.593368</td>\n",
       "      <td>-0.166427</td>\n",
       "      <td>0.620949</td>\n",
       "    </tr>\n",
       "    <tr>\n",
       "      <th>3</th>\n",
       "      <td>-0.638201</td>\n",
       "      <td>0.015254</td>\n",
       "      <td>0.367908</td>\n",
       "      <td>0.199030</td>\n",
       "    </tr>\n",
       "    <tr>\n",
       "      <th>4</th>\n",
       "      <td>0.869971</td>\n",
       "      <td>-1.465806</td>\n",
       "      <td>-0.796762</td>\n",
       "      <td>-0.519929</td>\n",
       "    </tr>\n",
       "  </tbody>\n",
       "</table>\n",
       "</div>"
      ],
      "text/plain": [
       "          A         B         C         D\n",
       "1  0.930613 -0.190829  0.210155  0.087114\n",
       "2 -0.217414  1.593368 -0.166427  0.620949\n",
       "3 -0.638201  0.015254  0.367908  0.199030\n",
       "4  0.869971 -1.465806 -0.796762 -0.519929"
      ]
     },
     "execution_count": 69,
     "metadata": {},
     "output_type": "execute_result"
    }
   ],
   "source": [
    "df.drop('E',axis=1)                                             # delete tha new one (temp delete)"
   ]
  },
  {
   "cell_type": "code",
   "execution_count": null,
   "id": "367162c0-f220-4cd1-90a2-21b93782cb70",
   "metadata": {},
   "outputs": [],
   "source": [
    "# if u want delete permently use  inplace=ture "
   ]
  },
  {
   "cell_type": "code",
   "execution_count": 70,
   "id": "3d9fb734-b648-44eb-a48f-4e55e5444e9d",
   "metadata": {},
   "outputs": [
    {
     "data": {
      "text/plain": [
       "A   -0.638201\n",
       "B    0.015254\n",
       "C    0.367908\n",
       "D    0.199030\n",
       "E    0.566938\n",
       "Name: 3, dtype: float64"
      ]
     },
     "execution_count": 70,
     "metadata": {},
     "output_type": "execute_result"
    }
   ],
   "source": [
    "df.loc[3]                                            # selecting Rows "
   ]
  },
  {
   "cell_type": "code",
   "execution_count": 71,
   "id": "37f2dfdd-c287-46ed-9b43-3a7fc4a3fce2",
   "metadata": {},
   "outputs": [
    {
     "data": {
      "text/plain": [
       "-0.1908286922075596"
      ]
     },
     "execution_count": 71,
     "metadata": {},
     "output_type": "execute_result"
    }
   ],
   "source": [
    "df.loc[1,'B']                                     # selecting Rows and colns "
   ]
  },
  {
   "cell_type": "code",
   "execution_count": 72,
   "id": "1e0d3920-1a79-4ee0-b471-8ee2fadd0781",
   "metadata": {},
   "outputs": [
    {
     "data": {
      "text/plain": [
       "A    0.930613\n",
       "B   -0.190829\n",
       "Name: 1, dtype: float64"
      ]
     },
     "execution_count": 72,
     "metadata": {},
     "output_type": "execute_result"
    }
   ],
   "source": [
    "df.loc[1,['A','B']]"
   ]
  },
  {
   "cell_type": "code",
   "execution_count": 73,
   "id": "296f8167-146c-4d5d-9cb8-5a095cef93f6",
   "metadata": {},
   "outputs": [
    {
     "data": {
      "text/html": [
       "<div>\n",
       "<style scoped>\n",
       "    .dataframe tbody tr th:only-of-type {\n",
       "        vertical-align: middle;\n",
       "    }\n",
       "\n",
       "    .dataframe tbody tr th {\n",
       "        vertical-align: top;\n",
       "    }\n",
       "\n",
       "    .dataframe thead th {\n",
       "        text-align: right;\n",
       "    }\n",
       "</style>\n",
       "<table border=\"1\" class=\"dataframe\">\n",
       "  <thead>\n",
       "    <tr style=\"text-align: right;\">\n",
       "      <th></th>\n",
       "      <th>A</th>\n",
       "      <th>B</th>\n",
       "    </tr>\n",
       "  </thead>\n",
       "  <tbody>\n",
       "    <tr>\n",
       "      <th>1</th>\n",
       "      <td>0.930613</td>\n",
       "      <td>-0.190829</td>\n",
       "    </tr>\n",
       "    <tr>\n",
       "      <th>2</th>\n",
       "      <td>-0.217414</td>\n",
       "      <td>1.593368</td>\n",
       "    </tr>\n",
       "  </tbody>\n",
       "</table>\n",
       "</div>"
      ],
      "text/plain": [
       "          A         B\n",
       "1  0.930613 -0.190829\n",
       "2 -0.217414  1.593368"
      ]
     },
     "execution_count": 73,
     "metadata": {},
     "output_type": "execute_result"
    }
   ],
   "source": [
    "df.loc[[1,2],['A','B']]"
   ]
  },
  {
   "cell_type": "code",
   "execution_count": null,
   "id": "03b7a080-ea55-48b8-a137-8af0c3f8f60e",
   "metadata": {},
   "outputs": [],
   "source": [
    "# condition selection:"
   ]
  },
  {
   "cell_type": "code",
   "execution_count": 74,
   "id": "3c2a9488-3edc-4046-8c41-ed5cbc349a8d",
   "metadata": {},
   "outputs": [
    {
     "data": {
      "text/html": [
       "<div>\n",
       "<style scoped>\n",
       "    .dataframe tbody tr th:only-of-type {\n",
       "        vertical-align: middle;\n",
       "    }\n",
       "\n",
       "    .dataframe tbody tr th {\n",
       "        vertical-align: top;\n",
       "    }\n",
       "\n",
       "    .dataframe thead th {\n",
       "        text-align: right;\n",
       "    }\n",
       "</style>\n",
       "<table border=\"1\" class=\"dataframe\">\n",
       "  <thead>\n",
       "    <tr style=\"text-align: right;\">\n",
       "      <th></th>\n",
       "      <th>A</th>\n",
       "      <th>B</th>\n",
       "      <th>C</th>\n",
       "      <th>D</th>\n",
       "      <th>E</th>\n",
       "    </tr>\n",
       "  </thead>\n",
       "  <tbody>\n",
       "    <tr>\n",
       "      <th>1</th>\n",
       "      <td>0.930613</td>\n",
       "      <td>-0.190829</td>\n",
       "      <td>0.210155</td>\n",
       "      <td>0.087114</td>\n",
       "      <td>0.297269</td>\n",
       "    </tr>\n",
       "    <tr>\n",
       "      <th>2</th>\n",
       "      <td>-0.217414</td>\n",
       "      <td>1.593368</td>\n",
       "      <td>-0.166427</td>\n",
       "      <td>0.620949</td>\n",
       "      <td>0.454521</td>\n",
       "    </tr>\n",
       "    <tr>\n",
       "      <th>3</th>\n",
       "      <td>-0.638201</td>\n",
       "      <td>0.015254</td>\n",
       "      <td>0.367908</td>\n",
       "      <td>0.199030</td>\n",
       "      <td>0.566938</td>\n",
       "    </tr>\n",
       "    <tr>\n",
       "      <th>4</th>\n",
       "      <td>0.869971</td>\n",
       "      <td>-1.465806</td>\n",
       "      <td>-0.796762</td>\n",
       "      <td>-0.519929</td>\n",
       "      <td>-1.316691</td>\n",
       "    </tr>\n",
       "  </tbody>\n",
       "</table>\n",
       "</div>"
      ],
      "text/plain": [
       "          A         B         C         D         E\n",
       "1  0.930613 -0.190829  0.210155  0.087114  0.297269\n",
       "2 -0.217414  1.593368 -0.166427  0.620949  0.454521\n",
       "3 -0.638201  0.015254  0.367908  0.199030  0.566938\n",
       "4  0.869971 -1.465806 -0.796762 -0.519929 -1.316691"
      ]
     },
     "execution_count": 74,
     "metadata": {},
     "output_type": "execute_result"
    }
   ],
   "source": [
    "df"
   ]
  },
  {
   "cell_type": "code",
   "execution_count": 75,
   "id": "3e62e9aa-8809-4e5d-b8d2-e754dad1b60b",
   "metadata": {},
   "outputs": [
    {
     "data": {
      "text/html": [
       "<div>\n",
       "<style scoped>\n",
       "    .dataframe tbody tr th:only-of-type {\n",
       "        vertical-align: middle;\n",
       "    }\n",
       "\n",
       "    .dataframe tbody tr th {\n",
       "        vertical-align: top;\n",
       "    }\n",
       "\n",
       "    .dataframe thead th {\n",
       "        text-align: right;\n",
       "    }\n",
       "</style>\n",
       "<table border=\"1\" class=\"dataframe\">\n",
       "  <thead>\n",
       "    <tr style=\"text-align: right;\">\n",
       "      <th></th>\n",
       "      <th>A</th>\n",
       "      <th>B</th>\n",
       "      <th>C</th>\n",
       "      <th>D</th>\n",
       "      <th>E</th>\n",
       "    </tr>\n",
       "  </thead>\n",
       "  <tbody>\n",
       "    <tr>\n",
       "      <th>1</th>\n",
       "      <td>True</td>\n",
       "      <td>False</td>\n",
       "      <td>True</td>\n",
       "      <td>True</td>\n",
       "      <td>True</td>\n",
       "    </tr>\n",
       "    <tr>\n",
       "      <th>2</th>\n",
       "      <td>False</td>\n",
       "      <td>True</td>\n",
       "      <td>False</td>\n",
       "      <td>True</td>\n",
       "      <td>True</td>\n",
       "    </tr>\n",
       "    <tr>\n",
       "      <th>3</th>\n",
       "      <td>False</td>\n",
       "      <td>True</td>\n",
       "      <td>True</td>\n",
       "      <td>True</td>\n",
       "      <td>True</td>\n",
       "    </tr>\n",
       "    <tr>\n",
       "      <th>4</th>\n",
       "      <td>True</td>\n",
       "      <td>False</td>\n",
       "      <td>False</td>\n",
       "      <td>False</td>\n",
       "      <td>False</td>\n",
       "    </tr>\n",
       "  </tbody>\n",
       "</table>\n",
       "</div>"
      ],
      "text/plain": [
       "       A      B      C      D      E\n",
       "1   True  False   True   True   True\n",
       "2  False   True  False   True   True\n",
       "3  False   True   True   True   True\n",
       "4   True  False  False  False  False"
      ]
     },
     "execution_count": 75,
     "metadata": {},
     "output_type": "execute_result"
    }
   ],
   "source": [
    "df>0                                    # normal df potta bollean la return panum "
   ]
  },
  {
   "cell_type": "code",
   "execution_count": 77,
   "id": "ce0830de-a38b-460f-adff-5aaf8a024192",
   "metadata": {},
   "outputs": [
    {
     "data": {
      "text/html": [
       "<div>\n",
       "<style scoped>\n",
       "    .dataframe tbody tr th:only-of-type {\n",
       "        vertical-align: middle;\n",
       "    }\n",
       "\n",
       "    .dataframe tbody tr th {\n",
       "        vertical-align: top;\n",
       "    }\n",
       "\n",
       "    .dataframe thead th {\n",
       "        text-align: right;\n",
       "    }\n",
       "</style>\n",
       "<table border=\"1\" class=\"dataframe\">\n",
       "  <thead>\n",
       "    <tr style=\"text-align: right;\">\n",
       "      <th></th>\n",
       "      <th>A</th>\n",
       "      <th>B</th>\n",
       "      <th>C</th>\n",
       "      <th>D</th>\n",
       "      <th>E</th>\n",
       "    </tr>\n",
       "  </thead>\n",
       "  <tbody>\n",
       "    <tr>\n",
       "      <th>1</th>\n",
       "      <td>0.930613</td>\n",
       "      <td>NaN</td>\n",
       "      <td>0.210155</td>\n",
       "      <td>0.087114</td>\n",
       "      <td>0.297269</td>\n",
       "    </tr>\n",
       "    <tr>\n",
       "      <th>2</th>\n",
       "      <td>NaN</td>\n",
       "      <td>1.593368</td>\n",
       "      <td>NaN</td>\n",
       "      <td>0.620949</td>\n",
       "      <td>0.454521</td>\n",
       "    </tr>\n",
       "    <tr>\n",
       "      <th>3</th>\n",
       "      <td>NaN</td>\n",
       "      <td>0.015254</td>\n",
       "      <td>0.367908</td>\n",
       "      <td>0.199030</td>\n",
       "      <td>0.566938</td>\n",
       "    </tr>\n",
       "    <tr>\n",
       "      <th>4</th>\n",
       "      <td>0.869971</td>\n",
       "      <td>NaN</td>\n",
       "      <td>NaN</td>\n",
       "      <td>NaN</td>\n",
       "      <td>NaN</td>\n",
       "    </tr>\n",
       "  </tbody>\n",
       "</table>\n",
       "</div>"
      ],
      "text/plain": [
       "          A         B         C         D         E\n",
       "1  0.930613       NaN  0.210155  0.087114  0.297269\n",
       "2       NaN  1.593368       NaN  0.620949  0.454521\n",
       "3       NaN  0.015254  0.367908  0.199030  0.566938\n",
       "4  0.869971       NaN       NaN       NaN       NaN"
      ]
     },
     "execution_count": 77,
     "metadata": {},
     "output_type": "execute_result"
    }
   ],
   "source": [
    "df[df>0]                                              # agumented opretion"
   ]
  },
  {
   "cell_type": "code",
   "execution_count": 79,
   "id": "eebaf925-1c10-42ad-b976-aa9f12b62878",
   "metadata": {},
   "outputs": [
    {
     "data": {
      "text/plain": [
       "1   -0.190829\n",
       "4   -1.465806\n",
       "Name: B, dtype: float64"
      ]
     },
     "execution_count": 79,
     "metadata": {},
     "output_type": "execute_result"
    }
   ],
   "source": [
    "df[df['A']>0]['B']"
   ]
  },
  {
   "cell_type": "code",
   "execution_count": 81,
   "id": "771ca51d-42cf-4aa5-8899-36e1bb496988",
   "metadata": {},
   "outputs": [
    {
     "data": {
      "text/html": [
       "<div>\n",
       "<style scoped>\n",
       "    .dataframe tbody tr th:only-of-type {\n",
       "        vertical-align: middle;\n",
       "    }\n",
       "\n",
       "    .dataframe tbody tr th {\n",
       "        vertical-align: top;\n",
       "    }\n",
       "\n",
       "    .dataframe thead th {\n",
       "        text-align: right;\n",
       "    }\n",
       "</style>\n",
       "<table border=\"1\" class=\"dataframe\">\n",
       "  <thead>\n",
       "    <tr style=\"text-align: right;\">\n",
       "      <th></th>\n",
       "      <th>C</th>\n",
       "      <th>D</th>\n",
       "    </tr>\n",
       "  </thead>\n",
       "  <tbody>\n",
       "    <tr>\n",
       "      <th>2</th>\n",
       "      <td>-0.166427</td>\n",
       "      <td>0.620949</td>\n",
       "    </tr>\n",
       "    <tr>\n",
       "      <th>3</th>\n",
       "      <td>0.367908</td>\n",
       "      <td>0.199030</td>\n",
       "    </tr>\n",
       "  </tbody>\n",
       "</table>\n",
       "</div>"
      ],
      "text/plain": [
       "          C         D\n",
       "2 -0.166427  0.620949\n",
       "3  0.367908  0.199030"
      ]
     },
     "execution_count": 81,
     "metadata": {},
     "output_type": "execute_result"
    }
   ],
   "source": [
    "df[df['B']>0][['C','D']]"
   ]
  },
  {
   "cell_type": "code",
   "execution_count": 85,
   "id": "2a76feb3-5b22-4620-95e8-f9f8a7d7f50d",
   "metadata": {},
   "outputs": [
    {
     "data": {
      "text/html": [
       "<div>\n",
       "<style scoped>\n",
       "    .dataframe tbody tr th:only-of-type {\n",
       "        vertical-align: middle;\n",
       "    }\n",
       "\n",
       "    .dataframe tbody tr th {\n",
       "        vertical-align: top;\n",
       "    }\n",
       "\n",
       "    .dataframe thead th {\n",
       "        text-align: right;\n",
       "    }\n",
       "</style>\n",
       "<table border=\"1\" class=\"dataframe\">\n",
       "  <thead>\n",
       "    <tr style=\"text-align: right;\">\n",
       "      <th></th>\n",
       "      <th>A</th>\n",
       "      <th>B</th>\n",
       "      <th>C</th>\n",
       "      <th>D</th>\n",
       "      <th>E</th>\n",
       "    </tr>\n",
       "  </thead>\n",
       "  <tbody>\n",
       "    <tr>\n",
       "      <th>1</th>\n",
       "      <td>0.930613</td>\n",
       "      <td>-0.190829</td>\n",
       "      <td>0.210155</td>\n",
       "      <td>0.087114</td>\n",
       "      <td>0.297269</td>\n",
       "    </tr>\n",
       "    <tr>\n",
       "      <th>4</th>\n",
       "      <td>0.869971</td>\n",
       "      <td>-1.465806</td>\n",
       "      <td>-0.796762</td>\n",
       "      <td>-0.519929</td>\n",
       "      <td>-1.316691</td>\n",
       "    </tr>\n",
       "  </tbody>\n",
       "</table>\n",
       "</div>"
      ],
      "text/plain": [
       "          A         B         C         D         E\n",
       "1  0.930613 -0.190829  0.210155  0.087114  0.297269\n",
       "4  0.869971 -1.465806 -0.796762 -0.519929 -1.316691"
      ]
     },
     "execution_count": 85,
     "metadata": {},
     "output_type": "execute_result"
    }
   ],
   "source": [
    "df[(df['A']>0) & (df['B']<1)]                #using and ,Or condition (&,|)"
   ]
  },
  {
   "cell_type": "code",
   "execution_count": null,
   "id": "4b36c642-0262-4946-88ff-ed2eb8eeacf9",
   "metadata": {},
   "outputs": [],
   "source": [
    "# more index details:"
   ]
  },
  {
   "cell_type": "code",
   "execution_count": 86,
   "id": "71744ec0-3e28-45f9-8ac5-c4bf2323d935",
   "metadata": {},
   "outputs": [
    {
     "data": {
      "text/html": [
       "<div>\n",
       "<style scoped>\n",
       "    .dataframe tbody tr th:only-of-type {\n",
       "        vertical-align: middle;\n",
       "    }\n",
       "\n",
       "    .dataframe tbody tr th {\n",
       "        vertical-align: top;\n",
       "    }\n",
       "\n",
       "    .dataframe thead th {\n",
       "        text-align: right;\n",
       "    }\n",
       "</style>\n",
       "<table border=\"1\" class=\"dataframe\">\n",
       "  <thead>\n",
       "    <tr style=\"text-align: right;\">\n",
       "      <th></th>\n",
       "      <th>A</th>\n",
       "      <th>B</th>\n",
       "      <th>C</th>\n",
       "      <th>D</th>\n",
       "      <th>E</th>\n",
       "    </tr>\n",
       "  </thead>\n",
       "  <tbody>\n",
       "    <tr>\n",
       "      <th>1</th>\n",
       "      <td>0.930613</td>\n",
       "      <td>-0.190829</td>\n",
       "      <td>0.210155</td>\n",
       "      <td>0.087114</td>\n",
       "      <td>0.297269</td>\n",
       "    </tr>\n",
       "    <tr>\n",
       "      <th>2</th>\n",
       "      <td>-0.217414</td>\n",
       "      <td>1.593368</td>\n",
       "      <td>-0.166427</td>\n",
       "      <td>0.620949</td>\n",
       "      <td>0.454521</td>\n",
       "    </tr>\n",
       "    <tr>\n",
       "      <th>3</th>\n",
       "      <td>-0.638201</td>\n",
       "      <td>0.015254</td>\n",
       "      <td>0.367908</td>\n",
       "      <td>0.199030</td>\n",
       "      <td>0.566938</td>\n",
       "    </tr>\n",
       "    <tr>\n",
       "      <th>4</th>\n",
       "      <td>0.869971</td>\n",
       "      <td>-1.465806</td>\n",
       "      <td>-0.796762</td>\n",
       "      <td>-0.519929</td>\n",
       "      <td>-1.316691</td>\n",
       "    </tr>\n",
       "  </tbody>\n",
       "</table>\n",
       "</div>"
      ],
      "text/plain": [
       "          A         B         C         D         E\n",
       "1  0.930613 -0.190829  0.210155  0.087114  0.297269\n",
       "2 -0.217414  1.593368 -0.166427  0.620949  0.454521\n",
       "3 -0.638201  0.015254  0.367908  0.199030  0.566938\n",
       "4  0.869971 -1.465806 -0.796762 -0.519929 -1.316691"
      ]
     },
     "execution_count": 86,
     "metadata": {},
     "output_type": "execute_result"
    }
   ],
   "source": [
    "df"
   ]
  },
  {
   "cell_type": "code",
   "execution_count": 87,
   "id": "f5866217-991b-4001-ab2d-98c83d39d257",
   "metadata": {},
   "outputs": [
    {
     "data": {
      "text/html": [
       "<div>\n",
       "<style scoped>\n",
       "    .dataframe tbody tr th:only-of-type {\n",
       "        vertical-align: middle;\n",
       "    }\n",
       "\n",
       "    .dataframe tbody tr th {\n",
       "        vertical-align: top;\n",
       "    }\n",
       "\n",
       "    .dataframe thead th {\n",
       "        text-align: right;\n",
       "    }\n",
       "</style>\n",
       "<table border=\"1\" class=\"dataframe\">\n",
       "  <thead>\n",
       "    <tr style=\"text-align: right;\">\n",
       "      <th></th>\n",
       "      <th>index</th>\n",
       "      <th>A</th>\n",
       "      <th>B</th>\n",
       "      <th>C</th>\n",
       "      <th>D</th>\n",
       "      <th>E</th>\n",
       "    </tr>\n",
       "  </thead>\n",
       "  <tbody>\n",
       "    <tr>\n",
       "      <th>0</th>\n",
       "      <td>1</td>\n",
       "      <td>0.930613</td>\n",
       "      <td>-0.190829</td>\n",
       "      <td>0.210155</td>\n",
       "      <td>0.087114</td>\n",
       "      <td>0.297269</td>\n",
       "    </tr>\n",
       "    <tr>\n",
       "      <th>1</th>\n",
       "      <td>2</td>\n",
       "      <td>-0.217414</td>\n",
       "      <td>1.593368</td>\n",
       "      <td>-0.166427</td>\n",
       "      <td>0.620949</td>\n",
       "      <td>0.454521</td>\n",
       "    </tr>\n",
       "    <tr>\n",
       "      <th>2</th>\n",
       "      <td>3</td>\n",
       "      <td>-0.638201</td>\n",
       "      <td>0.015254</td>\n",
       "      <td>0.367908</td>\n",
       "      <td>0.199030</td>\n",
       "      <td>0.566938</td>\n",
       "    </tr>\n",
       "    <tr>\n",
       "      <th>3</th>\n",
       "      <td>4</td>\n",
       "      <td>0.869971</td>\n",
       "      <td>-1.465806</td>\n",
       "      <td>-0.796762</td>\n",
       "      <td>-0.519929</td>\n",
       "      <td>-1.316691</td>\n",
       "    </tr>\n",
       "  </tbody>\n",
       "</table>\n",
       "</div>"
      ],
      "text/plain": [
       "   index         A         B         C         D         E\n",
       "0      1  0.930613 -0.190829  0.210155  0.087114  0.297269\n",
       "1      2 -0.217414  1.593368 -0.166427  0.620949  0.454521\n",
       "2      3 -0.638201  0.015254  0.367908  0.199030  0.566938\n",
       "3      4  0.869971 -1.465806 -0.796762 -0.519929 -1.316691"
      ]
     },
     "execution_count": 87,
     "metadata": {},
     "output_type": "execute_result"
    }
   ],
   "source": [
    "df.reset_index()                       # reset index"
   ]
  },
  {
   "cell_type": "code",
   "execution_count": 88,
   "id": "33624a6c-dc22-4d34-916c-4a1c54e96b50",
   "metadata": {},
   "outputs": [
    {
     "data": {
      "text/html": [
       "<div>\n",
       "<style scoped>\n",
       "    .dataframe tbody tr th:only-of-type {\n",
       "        vertical-align: middle;\n",
       "    }\n",
       "\n",
       "    .dataframe tbody tr th {\n",
       "        vertical-align: top;\n",
       "    }\n",
       "\n",
       "    .dataframe thead th {\n",
       "        text-align: right;\n",
       "    }\n",
       "</style>\n",
       "<table border=\"1\" class=\"dataframe\">\n",
       "  <thead>\n",
       "    <tr style=\"text-align: right;\">\n",
       "      <th></th>\n",
       "      <th>A</th>\n",
       "      <th>B</th>\n",
       "      <th>C</th>\n",
       "      <th>D</th>\n",
       "      <th>E</th>\n",
       "    </tr>\n",
       "  </thead>\n",
       "  <tbody>\n",
       "    <tr>\n",
       "      <th>1</th>\n",
       "      <td>0.930613</td>\n",
       "      <td>-0.190829</td>\n",
       "      <td>0.210155</td>\n",
       "      <td>0.087114</td>\n",
       "      <td>0.297269</td>\n",
       "    </tr>\n",
       "    <tr>\n",
       "      <th>2</th>\n",
       "      <td>-0.217414</td>\n",
       "      <td>1.593368</td>\n",
       "      <td>-0.166427</td>\n",
       "      <td>0.620949</td>\n",
       "      <td>0.454521</td>\n",
       "    </tr>\n",
       "    <tr>\n",
       "      <th>3</th>\n",
       "      <td>-0.638201</td>\n",
       "      <td>0.015254</td>\n",
       "      <td>0.367908</td>\n",
       "      <td>0.199030</td>\n",
       "      <td>0.566938</td>\n",
       "    </tr>\n",
       "    <tr>\n",
       "      <th>4</th>\n",
       "      <td>0.869971</td>\n",
       "      <td>-1.465806</td>\n",
       "      <td>-0.796762</td>\n",
       "      <td>-0.519929</td>\n",
       "      <td>-1.316691</td>\n",
       "    </tr>\n",
       "  </tbody>\n",
       "</table>\n",
       "</div>"
      ],
      "text/plain": [
       "          A         B         C         D         E\n",
       "1  0.930613 -0.190829  0.210155  0.087114  0.297269\n",
       "2 -0.217414  1.593368 -0.166427  0.620949  0.454521\n",
       "3 -0.638201  0.015254  0.367908  0.199030  0.566938\n",
       "4  0.869971 -1.465806 -0.796762 -0.519929 -1.316691"
      ]
     },
     "execution_count": 88,
     "metadata": {},
     "output_type": "execute_result"
    }
   ],
   "source": [
    "df"
   ]
  },
  {
   "cell_type": "code",
   "execution_count": 93,
   "id": "682e84b1-e602-49dc-9f55-5c985d27b0f9",
   "metadata": {},
   "outputs": [],
   "source": [
    "newind='RR EE NN UU'.split()                  # .spilt fn automatic ka list la generate aagum"
   ]
  },
  {
   "cell_type": "code",
   "execution_count": 94,
   "id": "be75ace2-311d-4d72-a909-2071860c7b53",
   "metadata": {},
   "outputs": [
    {
     "data": {
      "text/plain": [
       "['RR', 'EE', 'NN', 'UU']"
      ]
     },
     "execution_count": 94,
     "metadata": {},
     "output_type": "execute_result"
    }
   ],
   "source": [
    "newind"
   ]
  },
  {
   "cell_type": "code",
   "execution_count": 95,
   "id": "328a974d-e780-4277-89ea-ea64c4018f10",
   "metadata": {},
   "outputs": [],
   "source": [
    "df['states']=newind"
   ]
  },
  {
   "cell_type": "code",
   "execution_count": 96,
   "id": "23dac0ae-4d5c-4da7-b7fc-a2729dd7c275",
   "metadata": {},
   "outputs": [
    {
     "data": {
      "text/html": [
       "<div>\n",
       "<style scoped>\n",
       "    .dataframe tbody tr th:only-of-type {\n",
       "        vertical-align: middle;\n",
       "    }\n",
       "\n",
       "    .dataframe tbody tr th {\n",
       "        vertical-align: top;\n",
       "    }\n",
       "\n",
       "    .dataframe thead th {\n",
       "        text-align: right;\n",
       "    }\n",
       "</style>\n",
       "<table border=\"1\" class=\"dataframe\">\n",
       "  <thead>\n",
       "    <tr style=\"text-align: right;\">\n",
       "      <th></th>\n",
       "      <th>A</th>\n",
       "      <th>B</th>\n",
       "      <th>C</th>\n",
       "      <th>D</th>\n",
       "      <th>E</th>\n",
       "      <th>states</th>\n",
       "    </tr>\n",
       "  </thead>\n",
       "  <tbody>\n",
       "    <tr>\n",
       "      <th>1</th>\n",
       "      <td>0.930613</td>\n",
       "      <td>-0.190829</td>\n",
       "      <td>0.210155</td>\n",
       "      <td>0.087114</td>\n",
       "      <td>0.297269</td>\n",
       "      <td>RR</td>\n",
       "    </tr>\n",
       "    <tr>\n",
       "      <th>2</th>\n",
       "      <td>-0.217414</td>\n",
       "      <td>1.593368</td>\n",
       "      <td>-0.166427</td>\n",
       "      <td>0.620949</td>\n",
       "      <td>0.454521</td>\n",
       "      <td>EE</td>\n",
       "    </tr>\n",
       "    <tr>\n",
       "      <th>3</th>\n",
       "      <td>-0.638201</td>\n",
       "      <td>0.015254</td>\n",
       "      <td>0.367908</td>\n",
       "      <td>0.199030</td>\n",
       "      <td>0.566938</td>\n",
       "      <td>NN</td>\n",
       "    </tr>\n",
       "    <tr>\n",
       "      <th>4</th>\n",
       "      <td>0.869971</td>\n",
       "      <td>-1.465806</td>\n",
       "      <td>-0.796762</td>\n",
       "      <td>-0.519929</td>\n",
       "      <td>-1.316691</td>\n",
       "      <td>UU</td>\n",
       "    </tr>\n",
       "  </tbody>\n",
       "</table>\n",
       "</div>"
      ],
      "text/plain": [
       "          A         B         C         D         E states\n",
       "1  0.930613 -0.190829  0.210155  0.087114  0.297269     RR\n",
       "2 -0.217414  1.593368 -0.166427  0.620949  0.454521     EE\n",
       "3 -0.638201  0.015254  0.367908  0.199030  0.566938     NN\n",
       "4  0.869971 -1.465806 -0.796762 -0.519929 -1.316691     UU"
      ]
     },
     "execution_count": 96,
     "metadata": {},
     "output_type": "execute_result"
    }
   ],
   "source": [
    "df"
   ]
  },
  {
   "cell_type": "code",
   "execution_count": 98,
   "id": "0fd522d5-fd5e-4923-8a3b-85cf935bb74c",
   "metadata": {},
   "outputs": [
    {
     "data": {
      "text/html": [
       "<div>\n",
       "<style scoped>\n",
       "    .dataframe tbody tr th:only-of-type {\n",
       "        vertical-align: middle;\n",
       "    }\n",
       "\n",
       "    .dataframe tbody tr th {\n",
       "        vertical-align: top;\n",
       "    }\n",
       "\n",
       "    .dataframe thead th {\n",
       "        text-align: right;\n",
       "    }\n",
       "</style>\n",
       "<table border=\"1\" class=\"dataframe\">\n",
       "  <thead>\n",
       "    <tr style=\"text-align: right;\">\n",
       "      <th></th>\n",
       "      <th>A</th>\n",
       "      <th>B</th>\n",
       "      <th>C</th>\n",
       "      <th>D</th>\n",
       "      <th>E</th>\n",
       "    </tr>\n",
       "    <tr>\n",
       "      <th>states</th>\n",
       "      <th></th>\n",
       "      <th></th>\n",
       "      <th></th>\n",
       "      <th></th>\n",
       "      <th></th>\n",
       "    </tr>\n",
       "  </thead>\n",
       "  <tbody>\n",
       "    <tr>\n",
       "      <th>RR</th>\n",
       "      <td>0.930613</td>\n",
       "      <td>-0.190829</td>\n",
       "      <td>0.210155</td>\n",
       "      <td>0.087114</td>\n",
       "      <td>0.297269</td>\n",
       "    </tr>\n",
       "    <tr>\n",
       "      <th>EE</th>\n",
       "      <td>-0.217414</td>\n",
       "      <td>1.593368</td>\n",
       "      <td>-0.166427</td>\n",
       "      <td>0.620949</td>\n",
       "      <td>0.454521</td>\n",
       "    </tr>\n",
       "    <tr>\n",
       "      <th>NN</th>\n",
       "      <td>-0.638201</td>\n",
       "      <td>0.015254</td>\n",
       "      <td>0.367908</td>\n",
       "      <td>0.199030</td>\n",
       "      <td>0.566938</td>\n",
       "    </tr>\n",
       "    <tr>\n",
       "      <th>UU</th>\n",
       "      <td>0.869971</td>\n",
       "      <td>-1.465806</td>\n",
       "      <td>-0.796762</td>\n",
       "      <td>-0.519929</td>\n",
       "      <td>-1.316691</td>\n",
       "    </tr>\n",
       "  </tbody>\n",
       "</table>\n",
       "</div>"
      ],
      "text/plain": [
       "               A         B         C         D         E\n",
       "states                                                  \n",
       "RR      0.930613 -0.190829  0.210155  0.087114  0.297269\n",
       "EE     -0.217414  1.593368 -0.166427  0.620949  0.454521\n",
       "NN     -0.638201  0.015254  0.367908  0.199030  0.566938\n",
       "UU      0.869971 -1.465806 -0.796762 -0.519929 -1.316691"
      ]
     },
     "execution_count": 98,
     "metadata": {},
     "output_type": "execute_result"
    }
   ],
   "source": [
    "df.set_index('states')"
   ]
  },
  {
   "cell_type": "code",
   "execution_count": null,
   "id": "6b7bc238-ed2d-4929-b4bb-dead13dcc2a4",
   "metadata": {},
   "outputs": [],
   "source": [
    "#Multi-Index and Index Hierarchy:"
   ]
  },
  {
   "cell_type": "code",
   "execution_count": 120,
   "id": "5eb583bf-bc9d-4e56-afea-e0bbfdc615e0",
   "metadata": {},
   "outputs": [],
   "source": [
    "# create muti-index:\n",
    "outside=['G1','G1','G1','G2','G2','G2']\n",
    "inside=[1,2,3,1,2,3]\n",
    "hier_index= zip(outside,inside)\n",
    "hier_index=pd.MultiIndex.from_tuples(hier_index)\n"
   ]
  },
  {
   "cell_type": "code",
   "execution_count": 121,
   "id": "642e1a61-eea8-420b-aa0d-3561027b87d6",
   "metadata": {},
   "outputs": [
    {
     "data": {
      "text/plain": [
       "MultiIndex([('G1', 1),\n",
       "            ('G1', 2),\n",
       "            ('G1', 3),\n",
       "            ('G2', 1),\n",
       "            ('G2', 2),\n",
       "            ('G2', 3)],\n",
       "           )"
      ]
     },
     "execution_count": 121,
     "metadata": {},
     "output_type": "execute_result"
    }
   ],
   "source": [
    "hier_index"
   ]
  },
  {
   "cell_type": "code",
   "execution_count": 116,
   "id": "6ad3aa4e-5e59-4e79-98f6-3246a0cc57e2",
   "metadata": {},
   "outputs": [],
   "source": [
    "data2=np.random.randn(6,2)"
   ]
  },
  {
   "cell_type": "code",
   "execution_count": 117,
   "id": "963f547a-9114-4f4d-b581-1c8f9b797eb1",
   "metadata": {},
   "outputs": [
    {
     "data": {
      "text/plain": [
       "array([[ 1.06903141,  2.19884189],\n",
       "       [ 0.3996858 ,  0.4768297 ],\n",
       "       [ 0.2490381 , -0.30646514],\n",
       "       [ 0.9060877 ,  0.12858534],\n",
       "       [-0.65849839, -0.14451891],\n",
       "       [-0.01532827,  0.2097115 ]])"
      ]
     },
     "execution_count": 117,
     "metadata": {},
     "output_type": "execute_result"
    }
   ],
   "source": [
    "data2"
   ]
  },
  {
   "cell_type": "code",
   "execution_count": 118,
   "id": "06f90210-cbe0-40ce-a99e-224b79d96db5",
   "metadata": {},
   "outputs": [],
   "source": [
    "df1=pd.DataFrame(data=data2,index=hier_index,columns=['A','B'])"
   ]
  },
  {
   "cell_type": "code",
   "execution_count": 122,
   "id": "539ee730-f78b-464e-bfd1-0674a1a2a45b",
   "metadata": {},
   "outputs": [
    {
     "data": {
      "text/html": [
       "<div>\n",
       "<style scoped>\n",
       "    .dataframe tbody tr th:only-of-type {\n",
       "        vertical-align: middle;\n",
       "    }\n",
       "\n",
       "    .dataframe tbody tr th {\n",
       "        vertical-align: top;\n",
       "    }\n",
       "\n",
       "    .dataframe thead th {\n",
       "        text-align: right;\n",
       "    }\n",
       "</style>\n",
       "<table border=\"1\" class=\"dataframe\">\n",
       "  <thead>\n",
       "    <tr style=\"text-align: right;\">\n",
       "      <th></th>\n",
       "      <th></th>\n",
       "      <th>A</th>\n",
       "      <th>B</th>\n",
       "    </tr>\n",
       "  </thead>\n",
       "  <tbody>\n",
       "    <tr>\n",
       "      <th rowspan=\"3\" valign=\"top\">G1</th>\n",
       "      <th>1</th>\n",
       "      <td>1.069031</td>\n",
       "      <td>2.198842</td>\n",
       "    </tr>\n",
       "    <tr>\n",
       "      <th>2</th>\n",
       "      <td>0.399686</td>\n",
       "      <td>0.476830</td>\n",
       "    </tr>\n",
       "    <tr>\n",
       "      <th>3</th>\n",
       "      <td>0.249038</td>\n",
       "      <td>-0.306465</td>\n",
       "    </tr>\n",
       "    <tr>\n",
       "      <th rowspan=\"3\" valign=\"top\">G2</th>\n",
       "      <th>1</th>\n",
       "      <td>0.906088</td>\n",
       "      <td>0.128585</td>\n",
       "    </tr>\n",
       "    <tr>\n",
       "      <th>2</th>\n",
       "      <td>-0.658498</td>\n",
       "      <td>-0.144519</td>\n",
       "    </tr>\n",
       "    <tr>\n",
       "      <th>3</th>\n",
       "      <td>-0.015328</td>\n",
       "      <td>0.209711</td>\n",
       "    </tr>\n",
       "  </tbody>\n",
       "</table>\n",
       "</div>"
      ],
      "text/plain": [
       "             A         B\n",
       "G1 1  1.069031  2.198842\n",
       "   2  0.399686  0.476830\n",
       "   3  0.249038 -0.306465\n",
       "G2 1  0.906088  0.128585\n",
       "   2 -0.658498 -0.144519\n",
       "   3 -0.015328  0.209711"
      ]
     },
     "execution_count": 122,
     "metadata": {},
     "output_type": "execute_result"
    }
   ],
   "source": [
    "df1"
   ]
  },
  {
   "cell_type": "code",
   "execution_count": 127,
   "id": "2676e5f7-f607-406a-9d6f-1b5bdb14c0dc",
   "metadata": {},
   "outputs": [
    {
     "data": {
      "text/plain": [
       "FrozenList([None, None])"
      ]
     },
     "execution_count": 127,
     "metadata": {},
     "output_type": "execute_result"
    }
   ],
   "source": [
    "df1.index.names"
   ]
  },
  {
   "cell_type": "code",
   "execution_count": 128,
   "id": "ac1abfa8-d184-44c8-9d65-7ccf0d1d06ba",
   "metadata": {},
   "outputs": [],
   "source": [
    "df1.index.names=['Group','Number']"
   ]
  },
  {
   "cell_type": "code",
   "execution_count": 129,
   "id": "ae6f35f4-991f-4add-99e3-9262b1a55f3d",
   "metadata": {},
   "outputs": [
    {
     "data": {
      "text/html": [
       "<div>\n",
       "<style scoped>\n",
       "    .dataframe tbody tr th:only-of-type {\n",
       "        vertical-align: middle;\n",
       "    }\n",
       "\n",
       "    .dataframe tbody tr th {\n",
       "        vertical-align: top;\n",
       "    }\n",
       "\n",
       "    .dataframe thead th {\n",
       "        text-align: right;\n",
       "    }\n",
       "</style>\n",
       "<table border=\"1\" class=\"dataframe\">\n",
       "  <thead>\n",
       "    <tr style=\"text-align: right;\">\n",
       "      <th></th>\n",
       "      <th></th>\n",
       "      <th>A</th>\n",
       "      <th>B</th>\n",
       "    </tr>\n",
       "    <tr>\n",
       "      <th>Group</th>\n",
       "      <th>Number</th>\n",
       "      <th></th>\n",
       "      <th></th>\n",
       "    </tr>\n",
       "  </thead>\n",
       "  <tbody>\n",
       "    <tr>\n",
       "      <th rowspan=\"3\" valign=\"top\">G1</th>\n",
       "      <th>1</th>\n",
       "      <td>1.069031</td>\n",
       "      <td>2.198842</td>\n",
       "    </tr>\n",
       "    <tr>\n",
       "      <th>2</th>\n",
       "      <td>0.399686</td>\n",
       "      <td>0.476830</td>\n",
       "    </tr>\n",
       "    <tr>\n",
       "      <th>3</th>\n",
       "      <td>0.249038</td>\n",
       "      <td>-0.306465</td>\n",
       "    </tr>\n",
       "    <tr>\n",
       "      <th rowspan=\"3\" valign=\"top\">G2</th>\n",
       "      <th>1</th>\n",
       "      <td>0.906088</td>\n",
       "      <td>0.128585</td>\n",
       "    </tr>\n",
       "    <tr>\n",
       "      <th>2</th>\n",
       "      <td>-0.658498</td>\n",
       "      <td>-0.144519</td>\n",
       "    </tr>\n",
       "    <tr>\n",
       "      <th>3</th>\n",
       "      <td>-0.015328</td>\n",
       "      <td>0.209711</td>\n",
       "    </tr>\n",
       "  </tbody>\n",
       "</table>\n",
       "</div>"
      ],
      "text/plain": [
       "                     A         B\n",
       "Group Number                    \n",
       "G1    1       1.069031  2.198842\n",
       "      2       0.399686  0.476830\n",
       "      3       0.249038 -0.306465\n",
       "G2    1       0.906088  0.128585\n",
       "      2      -0.658498 -0.144519\n",
       "      3      -0.015328  0.209711"
      ]
     },
     "execution_count": 129,
     "metadata": {},
     "output_type": "execute_result"
    }
   ],
   "source": [
    "df1"
   ]
  },
  {
   "cell_type": "code",
   "execution_count": 130,
   "id": "6ad2c22a-d39d-431a-8622-17f35ab8cffe",
   "metadata": {},
   "outputs": [
    {
     "data": {
      "text/html": [
       "<div>\n",
       "<style scoped>\n",
       "    .dataframe tbody tr th:only-of-type {\n",
       "        vertical-align: middle;\n",
       "    }\n",
       "\n",
       "    .dataframe tbody tr th {\n",
       "        vertical-align: top;\n",
       "    }\n",
       "\n",
       "    .dataframe thead th {\n",
       "        text-align: right;\n",
       "    }\n",
       "</style>\n",
       "<table border=\"1\" class=\"dataframe\">\n",
       "  <thead>\n",
       "    <tr style=\"text-align: right;\">\n",
       "      <th></th>\n",
       "      <th>A</th>\n",
       "      <th>B</th>\n",
       "    </tr>\n",
       "    <tr>\n",
       "      <th>Number</th>\n",
       "      <th></th>\n",
       "      <th></th>\n",
       "    </tr>\n",
       "  </thead>\n",
       "  <tbody>\n",
       "    <tr>\n",
       "      <th>1</th>\n",
       "      <td>1.069031</td>\n",
       "      <td>2.198842</td>\n",
       "    </tr>\n",
       "    <tr>\n",
       "      <th>2</th>\n",
       "      <td>0.399686</td>\n",
       "      <td>0.476830</td>\n",
       "    </tr>\n",
       "    <tr>\n",
       "      <th>3</th>\n",
       "      <td>0.249038</td>\n",
       "      <td>-0.306465</td>\n",
       "    </tr>\n",
       "  </tbody>\n",
       "</table>\n",
       "</div>"
      ],
      "text/plain": [
       "               A         B\n",
       "Number                    \n",
       "1       1.069031  2.198842\n",
       "2       0.399686  0.476830\n",
       "3       0.249038 -0.306465"
      ]
     },
     "execution_count": 130,
     "metadata": {},
     "output_type": "execute_result"
    }
   ],
   "source": [
    "df1.loc['G1']"
   ]
  },
  {
   "cell_type": "code",
   "execution_count": 131,
   "id": "8a3f2f91-d292-4806-b2ff-8aedab533c50",
   "metadata": {},
   "outputs": [
    {
     "data": {
      "text/plain": [
       "A    0.399686\n",
       "B    0.476830\n",
       "Name: 2, dtype: float64"
      ]
     },
     "execution_count": 131,
     "metadata": {},
     "output_type": "execute_result"
    }
   ],
   "source": [
    "df1.loc['G1'].loc[2]"
   ]
  },
  {
   "cell_type": "code",
   "execution_count": 133,
   "id": "e3fe2413-832f-4f45-bd43-58b95ee13fac",
   "metadata": {},
   "outputs": [
    {
     "data": {
      "text/html": [
       "<div>\n",
       "<style scoped>\n",
       "    .dataframe tbody tr th:only-of-type {\n",
       "        vertical-align: middle;\n",
       "    }\n",
       "\n",
       "    .dataframe tbody tr th {\n",
       "        vertical-align: top;\n",
       "    }\n",
       "\n",
       "    .dataframe thead th {\n",
       "        text-align: right;\n",
       "    }\n",
       "</style>\n",
       "<table border=\"1\" class=\"dataframe\">\n",
       "  <thead>\n",
       "    <tr style=\"text-align: right;\">\n",
       "      <th></th>\n",
       "      <th>A</th>\n",
       "      <th>B</th>\n",
       "    </tr>\n",
       "    <tr>\n",
       "      <th>Number</th>\n",
       "      <th></th>\n",
       "      <th></th>\n",
       "    </tr>\n",
       "  </thead>\n",
       "  <tbody>\n",
       "    <tr>\n",
       "      <th>1</th>\n",
       "      <td>0.906088</td>\n",
       "      <td>0.128585</td>\n",
       "    </tr>\n",
       "    <tr>\n",
       "      <th>2</th>\n",
       "      <td>-0.658498</td>\n",
       "      <td>-0.144519</td>\n",
       "    </tr>\n",
       "    <tr>\n",
       "      <th>3</th>\n",
       "      <td>-0.015328</td>\n",
       "      <td>0.209711</td>\n",
       "    </tr>\n",
       "  </tbody>\n",
       "</table>\n",
       "</div>"
      ],
      "text/plain": [
       "               A         B\n",
       "Number                    \n",
       "1       0.906088  0.128585\n",
       "2      -0.658498 -0.144519\n",
       "3      -0.015328  0.209711"
      ]
     },
     "execution_count": 133,
     "metadata": {},
     "output_type": "execute_result"
    }
   ],
   "source": [
    "df1.xs('G2')"
   ]
  },
  {
   "cell_type": "code",
   "execution_count": null,
   "id": "f50e77d2-793e-4e48-b326-3e8d20d34eff",
   "metadata": {},
   "outputs": [],
   "source": []
  },
  {
   "cell_type": "code",
   "execution_count": null,
   "id": "36bc803f-4f22-40ff-a673-5dcd3cdec620",
   "metadata": {},
   "outputs": [],
   "source": []
  },
  {
   "cell_type": "code",
   "execution_count": null,
   "id": "def5b233-dcef-44a3-a9c0-fdfaa4534781",
   "metadata": {},
   "outputs": [],
   "source": []
  },
  {
   "cell_type": "code",
   "execution_count": null,
   "id": "1a5a1ecc-8713-4ea1-a344-9b67720afb33",
   "metadata": {},
   "outputs": [],
   "source": []
  },
  {
   "cell_type": "code",
   "execution_count": null,
   "id": "a5901c3e-f1ef-4454-9cf7-fa815997cd09",
   "metadata": {},
   "outputs": [],
   "source": []
  },
  {
   "cell_type": "code",
   "execution_count": null,
   "id": "8d8ef751-415d-4ce9-a18b-7ed832eb3c71",
   "metadata": {},
   "outputs": [],
   "source": []
  },
  {
   "cell_type": "code",
   "execution_count": null,
   "id": "fbd1a6be-8ffb-4b6d-bce9-34e9af4e8199",
   "metadata": {},
   "outputs": [],
   "source": []
  },
  {
   "cell_type": "code",
   "execution_count": null,
   "id": "7642ca1e-25ad-4edb-9ed0-1a13d4b00985",
   "metadata": {},
   "outputs": [],
   "source": []
  },
  {
   "cell_type": "code",
   "execution_count": null,
   "id": "2f81d457-ba74-4e2e-a120-3f4cf9b9873d",
   "metadata": {},
   "outputs": [],
   "source": []
  },
  {
   "cell_type": "code",
   "execution_count": null,
   "id": "f54dfb0a-4241-4b78-839a-9a97f85d3cfb",
   "metadata": {},
   "outputs": [],
   "source": []
  },
  {
   "cell_type": "code",
   "execution_count": null,
   "id": "d813524a-0143-478a-a21f-4f101e58b73d",
   "metadata": {},
   "outputs": [],
   "source": []
  },
  {
   "cell_type": "code",
   "execution_count": null,
   "id": "860b4905-bf94-4193-8712-ea0177a8c9e2",
   "metadata": {},
   "outputs": [],
   "source": []
  },
  {
   "cell_type": "code",
   "execution_count": null,
   "id": "cac32f6a-32b3-4e23-935d-3762db910d08",
   "metadata": {},
   "outputs": [],
   "source": []
  },
  {
   "cell_type": "code",
   "execution_count": null,
   "id": "ee2afce7-f822-42db-90d1-b03a288a205d",
   "metadata": {},
   "outputs": [],
   "source": []
  },
  {
   "cell_type": "code",
   "execution_count": null,
   "id": "b71a7e30-5256-478e-aa86-515ba43b288f",
   "metadata": {},
   "outputs": [],
   "source": []
  },
  {
   "cell_type": "code",
   "execution_count": null,
   "id": "fdfb97c9-114d-4267-b69a-7d2b4a67e2f1",
   "metadata": {},
   "outputs": [],
   "source": []
  },
  {
   "cell_type": "code",
   "execution_count": null,
   "id": "b9e52b26-f6ac-46ff-9563-73b762acb140",
   "metadata": {},
   "outputs": [],
   "source": []
  },
  {
   "cell_type": "code",
   "execution_count": null,
   "id": "40fda777-5ca1-4cdf-a579-1ace27a84299",
   "metadata": {},
   "outputs": [],
   "source": []
  },
  {
   "cell_type": "code",
   "execution_count": null,
   "id": "547eaf82-a3c4-4b73-95ed-c63122cca169",
   "metadata": {},
   "outputs": [],
   "source": []
  },
  {
   "cell_type": "code",
   "execution_count": null,
   "id": "075a08e2-78ce-4bd1-90b2-14862b0df603",
   "metadata": {},
   "outputs": [],
   "source": []
  },
  {
   "cell_type": "code",
   "execution_count": null,
   "id": "7a1ea431-8a5d-4841-b336-3c2426f785b0",
   "metadata": {},
   "outputs": [],
   "source": []
  },
  {
   "cell_type": "code",
   "execution_count": null,
   "id": "61a1c7e5-f349-4adf-ae30-2eeb93903442",
   "metadata": {},
   "outputs": [],
   "source": []
  },
  {
   "cell_type": "code",
   "execution_count": null,
   "id": "98f5e0b3-5db6-4bce-85c8-b561e798f89d",
   "metadata": {},
   "outputs": [],
   "source": []
  },
  {
   "cell_type": "code",
   "execution_count": null,
   "id": "c6df951a-47a8-4207-a13c-7689c7d417ee",
   "metadata": {},
   "outputs": [],
   "source": []
  },
  {
   "cell_type": "code",
   "execution_count": null,
   "id": "41e21b29-7b03-4313-869c-81d3c26476dc",
   "metadata": {},
   "outputs": [],
   "source": []
  },
  {
   "cell_type": "code",
   "execution_count": null,
   "id": "8fb90950-fd18-4ead-9b22-8a7f7b0a0111",
   "metadata": {},
   "outputs": [],
   "source": []
  },
  {
   "cell_type": "code",
   "execution_count": null,
   "id": "b782aa64-bf60-406c-a961-ee253ad53962",
   "metadata": {},
   "outputs": [],
   "source": []
  },
  {
   "cell_type": "code",
   "execution_count": null,
   "id": "a62ea1df-db96-4d50-be69-0fdb698a6956",
   "metadata": {},
   "outputs": [],
   "source": []
  },
  {
   "cell_type": "code",
   "execution_count": null,
   "id": "789fa6ec-4e01-4b24-90af-320214c01c50",
   "metadata": {},
   "outputs": [],
   "source": []
  },
  {
   "cell_type": "code",
   "execution_count": null,
   "id": "d5b39f21-28fb-4ac0-9917-a436cda11d96",
   "metadata": {},
   "outputs": [],
   "source": []
  },
  {
   "cell_type": "code",
   "execution_count": null,
   "id": "611029e1-6272-4da2-a512-7bedb4a740b1",
   "metadata": {},
   "outputs": [],
   "source": []
  },
  {
   "cell_type": "code",
   "execution_count": null,
   "id": "562b036c-9af2-4ff6-b31e-3dff1e947dd0",
   "metadata": {},
   "outputs": [],
   "source": []
  },
  {
   "cell_type": "code",
   "execution_count": null,
   "id": "704ffb15-199d-4133-b36d-86bda64f2ea6",
   "metadata": {},
   "outputs": [],
   "source": []
  },
  {
   "cell_type": "code",
   "execution_count": null,
   "id": "7c3fbb79-2fa4-40c9-beec-8c62c0c7a73d",
   "metadata": {},
   "outputs": [],
   "source": []
  },
  {
   "cell_type": "code",
   "execution_count": null,
   "id": "e1f78e33-6ae2-4585-9ca6-98c92c3393d6",
   "metadata": {},
   "outputs": [],
   "source": []
  },
  {
   "cell_type": "code",
   "execution_count": null,
   "id": "b3bfc7fb-d8c3-44bd-a356-1ea736461110",
   "metadata": {},
   "outputs": [],
   "source": []
  },
  {
   "cell_type": "code",
   "execution_count": null,
   "id": "c10c5ebc-49cf-40e3-8d49-ba328d47856b",
   "metadata": {},
   "outputs": [],
   "source": []
  },
  {
   "cell_type": "code",
   "execution_count": null,
   "id": "176c059a-b311-4f97-8069-75e7736d0aa9",
   "metadata": {},
   "outputs": [],
   "source": []
  },
  {
   "cell_type": "code",
   "execution_count": null,
   "id": "c24f18ce-1aa4-4ec4-bad2-d9e39784d151",
   "metadata": {},
   "outputs": [],
   "source": []
  },
  {
   "cell_type": "code",
   "execution_count": null,
   "id": "c5e8c777-62da-4326-94c9-49ef1d3c0892",
   "metadata": {},
   "outputs": [],
   "source": []
  },
  {
   "cell_type": "code",
   "execution_count": null,
   "id": "f148e7a2-c9f4-492e-a0b1-354e248c6653",
   "metadata": {},
   "outputs": [],
   "source": []
  },
  {
   "cell_type": "code",
   "execution_count": null,
   "id": "b743c149-381a-47d3-ad67-da235e58be39",
   "metadata": {},
   "outputs": [],
   "source": []
  },
  {
   "cell_type": "code",
   "execution_count": null,
   "id": "cb71d37b-2cc6-4785-93f1-cb3567cb661a",
   "metadata": {},
   "outputs": [],
   "source": []
  },
  {
   "cell_type": "code",
   "execution_count": null,
   "id": "3bf3c3b8-d756-47f5-8ecd-7896636a7fce",
   "metadata": {},
   "outputs": [],
   "source": []
  },
  {
   "cell_type": "code",
   "execution_count": null,
   "id": "53959752-d994-4719-93f0-d44be0d8e7da",
   "metadata": {},
   "outputs": [],
   "source": []
  },
  {
   "cell_type": "code",
   "execution_count": null,
   "id": "a13085dc-42b0-4636-b422-2bb5fe0b11f2",
   "metadata": {},
   "outputs": [],
   "source": []
  },
  {
   "cell_type": "code",
   "execution_count": null,
   "id": "302df9b4-f67c-4cac-b386-3dcc5e316744",
   "metadata": {},
   "outputs": [],
   "source": []
  },
  {
   "cell_type": "code",
   "execution_count": null,
   "id": "e6a0472b-98a0-4b32-ae38-ffecfddfcdab",
   "metadata": {},
   "outputs": [],
   "source": []
  },
  {
   "cell_type": "code",
   "execution_count": null,
   "id": "df8b05c5-1a9a-4495-b859-67b2567f6621",
   "metadata": {},
   "outputs": [],
   "source": []
  },
  {
   "cell_type": "code",
   "execution_count": null,
   "id": "0e8913d4-c331-438e-8c6d-f3b7cde7dc26",
   "metadata": {},
   "outputs": [],
   "source": []
  },
  {
   "cell_type": "code",
   "execution_count": null,
   "id": "ba66f056-f7ae-4c15-baea-3dc26a0b5cd1",
   "metadata": {},
   "outputs": [],
   "source": []
  },
  {
   "cell_type": "code",
   "execution_count": null,
   "id": "4ef4c9d9-5a11-4e42-a069-c8fa722b0dc5",
   "metadata": {},
   "outputs": [],
   "source": []
  },
  {
   "cell_type": "code",
   "execution_count": null,
   "id": "2d5d99c3-9ba0-439f-8e65-bebaa310ce56",
   "metadata": {},
   "outputs": [],
   "source": []
  },
  {
   "cell_type": "code",
   "execution_count": null,
   "id": "6daefe27-dc05-45c3-a211-c1fa2d800501",
   "metadata": {},
   "outputs": [],
   "source": []
  },
  {
   "cell_type": "code",
   "execution_count": null,
   "id": "aa2442f1-7458-435e-b14c-3fba0ec9e0d5",
   "metadata": {},
   "outputs": [],
   "source": []
  },
  {
   "cell_type": "code",
   "execution_count": null,
   "id": "5c44d983-9273-4006-b6dd-087b26884f26",
   "metadata": {},
   "outputs": [],
   "source": []
  },
  {
   "cell_type": "code",
   "execution_count": null,
   "id": "30eecda0-9ca2-4fb6-9dd5-d5dcdee4634b",
   "metadata": {},
   "outputs": [],
   "source": []
  },
  {
   "cell_type": "code",
   "execution_count": null,
   "id": "f41395b6-71e0-4ef2-9178-f756ec97ff58",
   "metadata": {},
   "outputs": [],
   "source": []
  },
  {
   "cell_type": "code",
   "execution_count": null,
   "id": "69509748-28f4-4e77-b341-43c1182bba55",
   "metadata": {},
   "outputs": [],
   "source": []
  },
  {
   "cell_type": "code",
   "execution_count": null,
   "id": "10d88ed9-e310-41e5-9709-902aef32ce50",
   "metadata": {},
   "outputs": [],
   "source": []
  },
  {
   "cell_type": "code",
   "execution_count": null,
   "id": "6266a3d6-fc92-444d-810c-762825f0a40f",
   "metadata": {},
   "outputs": [],
   "source": []
  },
  {
   "cell_type": "code",
   "execution_count": null,
   "id": "1910ce7a-9879-4a4e-9408-1cfa743e11e0",
   "metadata": {},
   "outputs": [],
   "source": []
  },
  {
   "cell_type": "code",
   "execution_count": null,
   "id": "473b909b-7a2f-4fa7-8180-77e810a0f668",
   "metadata": {},
   "outputs": [],
   "source": []
  },
  {
   "cell_type": "code",
   "execution_count": null,
   "id": "74321571-28db-4e6f-a916-6da2e96e9cbb",
   "metadata": {},
   "outputs": [],
   "source": []
  },
  {
   "cell_type": "code",
   "execution_count": null,
   "id": "6edc722d-0c33-4aac-8a17-1b13f685d48d",
   "metadata": {},
   "outputs": [],
   "source": []
  },
  {
   "cell_type": "code",
   "execution_count": null,
   "id": "79fb2bca-1266-48c7-a2cf-bbbe308b2d43",
   "metadata": {},
   "outputs": [],
   "source": []
  },
  {
   "cell_type": "code",
   "execution_count": null,
   "id": "9d343452-2e69-4dd0-9048-f7719e4ef662",
   "metadata": {},
   "outputs": [],
   "source": [
    "\n"
   ]
  }
 ],
 "metadata": {
  "kernelspec": {
   "display_name": "Python 3 (ipykernel)",
   "language": "python",
   "name": "python3"
  },
  "language_info": {
   "codemirror_mode": {
    "name": "ipython",
    "version": 3
   },
   "file_extension": ".py",
   "mimetype": "text/x-python",
   "name": "python",
   "nbconvert_exporter": "python",
   "pygments_lexer": "ipython3",
   "version": "3.11.7"
  }
 },
 "nbformat": 4,
 "nbformat_minor": 5
}
