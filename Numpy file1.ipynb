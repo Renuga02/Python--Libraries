{
 "cells": [
  {
   "cell_type": "code",
   "execution_count": 2,
   "id": "15622cac-8bd2-4cb0-be8f-a746088f0b94",
   "metadata": {},
   "outputs": [
    {
     "name": "stdout",
     "output_type": "stream",
     "text": [
      "Requirement already satisfied: numpy in c:\\users\\gmuth\\anaconda3\\lib\\site-packages (1.26.4)\n",
      "Note: you may need to restart the kernel to use updated packages.\n"
     ]
    }
   ],
   "source": [
    "pip install numpy"
   ]
  },
  {
   "cell_type": "code",
   "execution_count": 6,
   "id": "6955ff0e-6aa8-4733-9ee3-837d60294dd3",
   "metadata": {},
   "outputs": [],
   "source": [
    "import numpy as np                "
   ]
  },
  {
   "cell_type": "code",
   "execution_count": 7,
   "id": "0fcb3d49-23be-45c9-81e7-28ace1473a10",
   "metadata": {},
   "outputs": [],
   "source": [
    "lst=[1,2,3,4,5]"
   ]
  },
  {
   "cell_type": "code",
   "execution_count": 10,
   "id": "c6542d82-6eda-4bcb-93e7-04da3c00ee3e",
   "metadata": {},
   "outputs": [
    {
     "data": {
      "text/plain": [
       "array([1, 2, 3, 4, 5])"
      ]
     },
     "execution_count": 10,
     "metadata": {},
     "output_type": "execute_result"
    }
   ],
   "source": [
    "np.array(lst)                          #list convrting on array "
   ]
  },
  {
   "cell_type": "code",
   "execution_count": 11,
   "id": "e49b290c-9be3-4a0c-889d-37681ca0eec4",
   "metadata": {},
   "outputs": [],
   "source": [
    "matrix=[\n",
    "        [1,2,3],\n",
    "        [4,5,6],\n",
    "        [7,8,9],\n",
    "]"
   ]
  },
  {
   "cell_type": "code",
   "execution_count": 12,
   "id": "4bd70e75-dba9-466b-8eb4-192c9a1cd646",
   "metadata": {},
   "outputs": [
    {
     "data": {
      "text/plain": [
       "array([[1, 2, 3],\n",
       "       [4, 5, 6],\n",
       "       [7, 8, 9]])"
      ]
     },
     "execution_count": 12,
     "metadata": {},
     "output_type": "execute_result"
    }
   ],
   "source": [
    "np.array(matrix)                       "
   ]
  },
  {
   "cell_type": "code",
   "execution_count": 13,
   "id": "3595be96-5e25-45b3-ae28-41fb6cf3ecda",
   "metadata": {},
   "outputs": [
    {
     "data": {
      "text/plain": [
       "array([ 0,  2,  4,  6,  8, 10])"
      ]
     },
     "execution_count": 13,
     "metadata": {},
     "output_type": "execute_result"
    }
   ],
   "source": [
    "# inbuild fuctions in numpy:\n",
    "np.arange(0,11,2)                                         #range fuc"
   ]
  },
  {
   "cell_type": "code",
   "execution_count": 14,
   "id": "84981cc4-6b01-49d5-814c-ec307772a7c1",
   "metadata": {},
   "outputs": [
    {
     "data": {
      "text/plain": [
       "array([0., 0., 0.])"
      ]
     },
     "execution_count": 14,
     "metadata": {},
     "output_type": "execute_result"
    }
   ],
   "source": [
    "np.zeros(3)"
   ]
  },
  {
   "cell_type": "code",
   "execution_count": 15,
   "id": "5c4d408f-85d1-449e-91d6-63f5e8b39536",
   "metadata": {},
   "outputs": [
    {
     "data": {
      "text/plain": [
       "array([[0., 0., 0.],\n",
       "       [0., 0., 0.],\n",
       "       [0., 0., 0.]])"
      ]
     },
     "execution_count": 15,
     "metadata": {},
     "output_type": "execute_result"
    }
   ],
   "source": [
    "np.zeros((3,3))                                          # zeros fuc"
   ]
  },
  {
   "cell_type": "code",
   "execution_count": 16,
   "id": "8bdae2ee-c972-4f90-922b-31e3645759fc",
   "metadata": {},
   "outputs": [
    {
     "data": {
      "text/plain": [
       "array([1., 1., 1.])"
      ]
     },
     "execution_count": 16,
     "metadata": {},
     "output_type": "execute_result"
    }
   ],
   "source": [
    "np.ones(3)"
   ]
  },
  {
   "cell_type": "code",
   "execution_count": 8,
   "id": "f9e9999f-0c94-4687-adee-5ba78721b3b5",
   "metadata": {},
   "outputs": [
    {
     "data": {
      "text/plain": [
       "array([[1., 1., 1., 1.],\n",
       "       [1., 1., 1., 1.],\n",
       "       [1., 1., 1., 1.]])"
      ]
     },
     "execution_count": 8,
     "metadata": {},
     "output_type": "execute_result"
    }
   ],
   "source": [
    "np.ones((3,4))                                                #ones fuc"
   ]
  },
  {
   "cell_type": "code",
   "execution_count": 17,
   "id": "256fd9cb-3c80-4f65-b64f-eea7b88c66ff",
   "metadata": {},
   "outputs": [
    {
     "data": {
      "text/plain": [
       "array([ 0.  ,  1.25,  2.5 ,  3.75,  5.  ,  6.25,  7.5 ,  8.75, 10.  ])"
      ]
     },
     "execution_count": 17,
     "metadata": {},
     "output_type": "execute_result"
    }
   ],
   "source": [
    "np.linspace(0,10,9)                                          # linspace fuc"
   ]
  },
  {
   "cell_type": "code",
   "execution_count": 18,
   "id": "cf8aea57-4d72-4fa4-bbd8-ea2b4337d782",
   "metadata": {},
   "outputs": [
    {
     "data": {
      "text/plain": [
       "array([[1., 0., 0., 0.],\n",
       "       [0., 1., 0., 0.],\n",
       "       [0., 0., 1., 0.],\n",
       "       [0., 0., 0., 1.]])"
      ]
     },
     "execution_count": 18,
     "metadata": {},
     "output_type": "execute_result"
    }
   ],
   "source": [
    "np.eye(4,4)                                                # eye fn"
   ]
  },
  {
   "cell_type": "code",
   "execution_count": 21,
   "id": "9c338182-946a-4c4d-9520-2b508415228a",
   "metadata": {},
   "outputs": [
    {
     "data": {
      "text/plain": [
       "array([0. , 2.5, 5. ])"
      ]
     },
     "execution_count": 21,
     "metadata": {},
     "output_type": "execute_result"
    }
   ],
   "source": [
    "np.linspace(0,5,3)"
   ]
  },
  {
   "cell_type": "code",
   "execution_count": 23,
   "id": "e4f4dadc-47b5-409a-a605-57d9e8039759",
   "metadata": {},
   "outputs": [
    {
     "data": {
      "text/plain": [
       "array([1.])"
      ]
     },
     "execution_count": 23,
     "metadata": {},
     "output_type": "execute_result"
    }
   ],
   "source": [
    "np.ones(1)"
   ]
  },
  {
   "cell_type": "code",
   "execution_count": 25,
   "id": "1b2d5d8d-2fd3-40bd-b082-16ccf23866b4",
   "metadata": {},
   "outputs": [
    {
     "data": {
      "text/plain": [
       "array([0.95691957, 0.51313468, 0.65674654])"
      ]
     },
     "execution_count": 25,
     "metadata": {},
     "output_type": "execute_result"
    }
   ],
   "source": [
    "#random\n",
    "np.random.rand(3)                  #rand fun"
   ]
  },
  {
   "cell_type": "code",
   "execution_count": 26,
   "id": "0e3d10c9-dc37-4087-a1e3-5e15687533b0",
   "metadata": {},
   "outputs": [
    {
     "data": {
      "text/plain": [
       "array([[0.43466211, 0.86720233, 0.48440873, 0.21715826],\n",
       "       [0.66938963, 0.56188463, 0.16907643, 0.9320801 ],\n",
       "       [0.69303756, 0.33928479, 0.25257889, 0.19418466],\n",
       "       [0.65510875, 0.54678606, 0.40270323, 0.91320421]])"
      ]
     },
     "execution_count": 26,
     "metadata": {},
     "output_type": "execute_result"
    }
   ],
   "source": [
    "np.random.rand(4,4)"
   ]
  },
  {
   "cell_type": "code",
   "execution_count": 27,
   "id": "788a3630-4431-4105-b36e-7842a8ed1d7d",
   "metadata": {},
   "outputs": [
    {
     "data": {
      "text/plain": [
       "array([ 0.01466828,  0.84360603,  2.08327907, -1.19905931])"
      ]
     },
     "execution_count": 27,
     "metadata": {},
     "output_type": "execute_result"
    }
   ],
   "source": [
    "np.random.randn(4)                                 # randn fun"
   ]
  },
  {
   "cell_type": "code",
   "execution_count": 28,
   "id": "99778d37-b00b-49d9-91cb-0849e1c7d8ab",
   "metadata": {},
   "outputs": [
    {
     "data": {
      "text/plain": [
       "array([[ 0.75621578, -0.27895696,  2.20132769],\n",
       "       [-0.7433387 , -0.17138766,  0.85885992],\n",
       "       [-0.30455732,  0.27224916,  1.05105836]])"
      ]
     },
     "execution_count": 28,
     "metadata": {},
     "output_type": "execute_result"
    }
   ],
   "source": [
    "np.random.randn(3,3)"
   ]
  },
  {
   "cell_type": "code",
   "execution_count": 34,
   "id": "305d66af-d675-4c1b-ab59-3e3ad804fc16",
   "metadata": {},
   "outputs": [
    {
     "data": {
      "text/plain": [
       "4"
      ]
     },
     "execution_count": 34,
     "metadata": {},
     "output_type": "execute_result"
    }
   ],
   "source": [
    "np.random.randint(1,6)                              # randint fun"
   ]
  },
  {
   "cell_type": "code",
   "execution_count": 35,
   "id": "5384d826-5b6e-481f-b694-1857f527c995",
   "metadata": {},
   "outputs": [
    {
     "data": {
      "text/plain": [
       "array([3, 4, 2, 5])"
      ]
     },
     "execution_count": 35,
     "metadata": {},
     "output_type": "execute_result"
    }
   ],
   "source": [
    "np.random.randint(1,6,4)"
   ]
  },
  {
   "cell_type": "code",
   "execution_count": 38,
   "id": "5f2270de-54a6-4de9-bd98-852dd92d863d",
   "metadata": {},
   "outputs": [],
   "source": [
    "#Array Attributes and Methods\n",
    "a=np.arange(0,25)"
   ]
  },
  {
   "cell_type": "code",
   "execution_count": 39,
   "id": "aba0ec06-ba7a-4978-b5b1-c7e7b508d823",
   "metadata": {},
   "outputs": [
    {
     "data": {
      "text/plain": [
       "(25,)"
      ]
     },
     "execution_count": 39,
     "metadata": {},
     "output_type": "execute_result"
    }
   ],
   "source": [
    "a.shape                                                  #shape and reshape fun"
   ]
  },
  {
   "cell_type": "code",
   "execution_count": 41,
   "id": "3425465e-1472-413b-b52c-6fd29d6871c6",
   "metadata": {},
   "outputs": [
    {
     "data": {
      "text/plain": [
       "array([[ 0,  1,  2,  3,  4],\n",
       "       [ 5,  6,  7,  8,  9],\n",
       "       [10, 11, 12, 13, 14],\n",
       "       [15, 16, 17, 18, 19],\n",
       "       [20, 21, 22, 23, 24]])"
      ]
     },
     "execution_count": 41,
     "metadata": {},
     "output_type": "execute_result"
    }
   ],
   "source": [
    "a.reshape(5,5)"
   ]
  },
  {
   "cell_type": "code",
   "execution_count": 42,
   "id": "d7f6ad6c-2b87-4844-817d-8a69ddf692ac",
   "metadata": {},
   "outputs": [
    {
     "data": {
      "text/plain": [
       "(25,)"
      ]
     },
     "execution_count": 42,
     "metadata": {},
     "output_type": "execute_result"
    }
   ],
   "source": [
    "a.shape"
   ]
  },
  {
   "cell_type": "code",
   "execution_count": 43,
   "id": "229da179-25c9-45fa-b483-04c181f42530",
   "metadata": {},
   "outputs": [
    {
     "data": {
      "text/plain": [
       "24"
      ]
     },
     "execution_count": 43,
     "metadata": {},
     "output_type": "execute_result"
    }
   ],
   "source": [
    "a.max()                                               #max,min,arumax,"
   ]
  },
  {
   "cell_type": "code",
   "execution_count": 44,
   "id": "36e797ea-3f4a-4716-a8fc-3eaf2182750d",
   "metadata": {},
   "outputs": [
    {
     "data": {
      "text/plain": [
       "0"
      ]
     },
     "execution_count": 44,
     "metadata": {},
     "output_type": "execute_result"
    }
   ],
   "source": [
    "a.min()"
   ]
  },
  {
   "cell_type": "code",
   "execution_count": 45,
   "id": "ff9b81e9-d0e4-49f8-a62b-de51c4ecb784",
   "metadata": {},
   "outputs": [
    {
     "data": {
      "text/plain": [
       "24"
      ]
     },
     "execution_count": 45,
     "metadata": {},
     "output_type": "execute_result"
    }
   ],
   "source": [
    "a.argmax()"
   ]
  },
  {
   "cell_type": "code",
   "execution_count": 47,
   "id": "3ace138d-91e7-4efe-8db1-6dd10be339a2",
   "metadata": {},
   "outputs": [
    {
     "data": {
      "text/plain": [
       "dtype('int32')"
      ]
     },
     "execution_count": 47,
     "metadata": {},
     "output_type": "execute_result"
    }
   ],
   "source": [
    "a.dtype"
   ]
  },
  {
   "cell_type": "code",
   "execution_count": null,
   "id": "102ab49d-cdcf-4439-bbd8-6c95397896f8",
   "metadata": {},
   "outputs": [],
   "source": []
  }
 ],
 "metadata": {
  "kernelspec": {
   "display_name": "Python 3 (ipykernel)",
   "language": "python",
   "name": "python3"
  },
  "language_info": {
   "codemirror_mode": {
    "name": "ipython",
    "version": 3
   },
   "file_extension": ".py",
   "mimetype": "text/x-python",
   "name": "python",
   "nbconvert_exporter": "python",
   "pygments_lexer": "ipython3",
   "version": "3.11.7"
  }
 },
 "nbformat": 4,
 "nbformat_minor": 5
}
